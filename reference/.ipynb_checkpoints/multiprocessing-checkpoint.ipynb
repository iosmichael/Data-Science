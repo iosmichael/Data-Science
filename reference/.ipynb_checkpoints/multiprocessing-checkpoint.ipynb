{
 "cells": [
  {
   "cell_type": "markdown",
   "metadata": {},
   "source": [
    "> Process 1: \"You could probably do that in four lines.\"\n",
    "\n",
    "> Process 2: \"I bet we could do that in more.\"\n",
    "\n",
    "### Content of this note introduces multiprocessing module in python standard library. In this note, we will experience different threading controls in python.\n",
    "\n",
    "```python\n",
    "from multiprocessing import Process, Pool\n",
    "from multiprocessing import Pipe, Queue, Lock\n",
    "from multiprocessing import Manager\n",
    "```\n",
    "\n",
    "Citation: https://docs.python.org/3/library/multiprocessing.html"
   ]
  },
  {
   "cell_type": "markdown",
   "metadata": {},
   "source": [
    "## Process\n",
    "\n",
    "Basic class for multiprocessing class. Process can be both process or thread in this library. \n",
    "\n",
    "Use **Process()** to create a child process. Attribute **daemon** will determine whether a child process gets terminated when parent process exits. **daemon** flags are required to set before calling _run()_ function in a process. If ```process.daemon = False```, the child process will not exit if parent process terminates.\n",
    "\n",
    "> Process function ```join()``` allow parent process to wait until child process finished"
   ]
  },
  {
   "cell_type": "code",
   "execution_count": null,
   "metadata": {
    "collapsed": true
   },
   "outputs": [],
   "source": [
    "import time\n",
    "def individual_process(sec):\n",
    "    print(\"start child process\")\n",
    "    print(\"waiting for\", sec, \"seconds\")\n",
    "    time.sleep(sec)\n",
    "    print(\"exit child process\")\n",
    "    return sec\n",
    "\n",
    "from multiprocessing import Process\n",
    "print(\"start parent process\")\n",
    "p = Process(target=individual_process, args=(2,))\n",
    "p.start()\n",
    "print(\"before join parent process doesn't wait\")\n",
    "p.join() #parent process receive signal from child process\n",
    "print(\"exit parent process\")"
   ]
  },
  {
   "cell_type": "markdown",
   "metadata": {},
   "source": [
    "> Other attributes for **Process** class: ```.pid, .name, .is_alive(), .join(), .daemon```\n",
    "\n",
    "Now we can experience a nested structure of **Processes**."
   ]
  },
  {
   "cell_type": "code",
   "execution_count": null,
   "metadata": {
    "collapsed": true
   },
   "outputs": [],
   "source": [
    "def complicated_process(sec):\n",
    "    print(\"start x child process\")\n",
    "    child_p = Process(target=individual_process, args=(3,))\n",
    "    child_p.start()\n",
    "    child_p.join()\n",
    "    print(\"exit x child process\")\n",
    "\n",
    "p = Process(target=complicated_process, args=(2,))\n",
    "p.start()\n",
    "p.join()\n",
    "print(\"exit parent process\")"
   ]
  },
  {
   "cell_type": "markdown",
   "metadata": {},
   "source": [
    "# Pool\n",
    "Multiprocessing module class that controls a number of processes to perform basic data parallelism\n",
    "\n",
    "> ```Pool(5) -> while loop: create 5 Processes```\n",
    "\n",
    "> ```p.map(task, [data chunk]) -> \n",
    "while loop: assign individual process with task and input; join() each process```\n",
    "\n",
    "> ```p.map_async() -> don't join each process```"
   ]
  },
  {
   "cell_type": "code",
   "execution_count": 24,
   "metadata": {},
   "outputs": [
    {
     "name": "stdout",
     "output_type": "stream",
     "text": [
      "task: running 1 seconds\n",
      "task: running 1 seconds\n",
      "task: running 1 seconds\n",
      "task: running 5 seconds\n",
      "task: running 1 seconds\n",
      "task: running 1 seconds\n",
      "finished sync task\n",
      "finished async task\n"
     ]
    }
   ],
   "source": [
    "def process_task(x):\n",
    "    print(\"task: running\", x, \"seconds\")\n",
    "    return time.sleep(x)\n",
    "\n",
    "from multiprocessing import Pool\n",
    "p = Pool(5)\n",
    "#run task in a sync fashion, parent process will wait for child processes to finish\n",
    "p.map(process_task, [1,1,1])\n",
    "#run task in an async fashion\n",
    "p.map_async(process_task, [1,1,5])\n",
    "print(\"finished sync task\")\n",
    "#prevent any other task being submitted to Pool\n",
    "p.close()\n",
    "#!!! join process after close Pool\n",
    "p.join()\n",
    "print(\"finished async task\")"
   ]
  },
  {
   "cell_type": "markdown",
   "metadata": {},
   "source": [
    "## Communication between Processes\n",
    "\n",
    "# Pipe and Queue\n",
    "Pipe is used to connect **two** processes.\n",
    "\n",
    "``` python\n",
    "conn_1, conn2 = Pipe()\n",
    "conn_1.send(message)\n",
    "conn_2.recv() # receive message\n",
    "```\n",
    "\n",
    "Queue is used to establish communications among multiple processes.\n",
    "\n",
    "``` python\n",
    "queue = Queue()\n",
    "queue.put(message)\n",
    "queue.get()\n",
    "```"
   ]
  },
  {
   "cell_type": "code",
   "execution_count": 14,
   "metadata": {},
   "outputs": [
    {
     "name": "stdout",
     "output_type": "stream",
     "text": [
      "pipe: [message] from conn_1\n",
      "pipe: [message] from conn_2\n",
      "queue: [message] (1)\n"
     ]
    }
   ],
   "source": [
    "from multiprocessing import Pipe, Queue\n",
    "\n",
    "conn_1, conn_2 = Pipe()\n",
    "conn_1.send(\"pipe: [message] from conn_1\")\n",
    "print(conn_2.recv())\n",
    "#print(conn_1.recv()) if there is no message in the pipe, the receiver will continue to listen until something arrives\n",
    "conn_2.send(\"pipe: [message] from conn_2\")\n",
    "print(conn_1.recv())\n",
    "\n",
    "queue = Queue()\n",
    "queue.put(\"queue: [message] (1)\")\n",
    "queue.put(\"queue: [message] (2)\")\n",
    "print(queue.get())"
   ]
  },
  {
   "cell_type": "markdown",
   "metadata": {},
   "source": [
    "## Synchronization between Processes\n",
    "\n",
    "# Lock\n",
    "\n",
    "Without using the lock output from the different processes is liable to get all mixed up.\n",
    "\n",
    "**Try to comment out different part of script to see the difference in execution results. **"
   ]
  },
  {
   "cell_type": "code",
   "execution_count": 17,
   "metadata": {},
   "outputs": [
    {
     "name": "stdout",
     "output_type": "stream",
     "text": [
      "results using lock.\n",
      "process: 0\n",
      "process: 1\n",
      "process: 2\n",
      "process: 3\n",
      "process: 4\n",
      "parent process already exit\n"
     ]
    }
   ],
   "source": [
    "from multiprocessing import Lock\n",
    "\n",
    "def lock_in(lock, time_span):\n",
    "    lock.acquire()\n",
    "    print(\"process:\", time_span)\n",
    "    time.sleep(time_span)\n",
    "    lock.release()\n",
    "\n",
    "def simple_process(time_span):\n",
    "    print(\"process:\", time_span)\n",
    "    time.sleep(time_span)\n",
    "\n",
    "lock = Lock()\n",
    "\n",
    "print(\"results using lock.\")\n",
    "for i in range(0, 5):\n",
    "    p = Process(target = lock_in, args=(lock, i)) # lock is liable to keep child processes executing in sequence\n",
    "    p.start()\n",
    "    p.join() # for the parent process to wait for child processes\n",
    "print(\"parent process exits\")"
   ]
  },
  {
   "cell_type": "markdown",
   "metadata": {},
   "source": [
    "## Sharing information between Processes\n",
    "\n",
    "# Manager\n",
    "If we need to create a shared database among the child processes, instantiation of a manager object is the way to go. Manager() object supports various datatypes including ```dict(), list(), Condition, Event, Queue, Array``` etc."
   ]
  },
  {
   "cell_type": "code",
   "execution_count": 20,
   "metadata": {},
   "outputs": [
    {
     "name": "stdout",
     "output_type": "stream",
     "text": [
      "manager returns shared database\n",
      "[0, 1, 2, 3, 4, 0, 1, 2, 3, 4]\n"
     ]
    }
   ],
   "source": [
    "from multiprocessing import Manager\n",
    "\n",
    "def shared_data_process(l, i):\n",
    "    l.append(i)\n",
    "\n",
    "manager = Manager()\n",
    "#create a shared list\n",
    "database = manager.list(range(0, 5))\n",
    "\n",
    "for i in range(0, 5):\n",
    "    p = Process(target=shared_data_process, args = (database, i))\n",
    "    p.start()\n",
    "    p.join()\n",
    "    \n",
    "print(\"manager returns shared database\")\n",
    "\n",
    "# if the child processes are not executed in a desired sequential fashion, \n",
    "# we will use lock to synchronize the processes\n",
    "\n",
    "print(database)"
   ]
  }
 ],
 "metadata": {
  "kernelspec": {
   "display_name": "Python 3",
   "language": "python",
   "name": "python3"
  },
  "language_info": {
   "codemirror_mode": {
    "name": "ipython",
    "version": 3
   },
   "file_extension": ".py",
   "mimetype": "text/x-python",
   "name": "python",
   "nbconvert_exporter": "python",
   "pygments_lexer": "ipython3",
   "version": "3.6.0"
  }
 },
 "nbformat": 4,
 "nbformat_minor": 2
}
