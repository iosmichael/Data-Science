{
 "cells": [
  {
   "cell_type": "markdown",
   "metadata": {},
   "source": [
    "# Math Symbols in Markdown\n",
    "\n",
    "## Basic\n",
    "|  |  |  |  |  \n",
    "--- | --- | --- | --- | --- | ---\n",
    "$\\alpha$ | $\\beta$ | $\\gamma$ | $\\Gamma$ | $\\pi$ | $\\Pi$\n",
    "|  |  |  |  |  \n",
    "$\\phi$ | $\\Phi$ | $\\varphi$ | $\\theta$ | $\\cos$ | $\\sin$\n",
    "|  |  |  |  |  \n",
    "$\\lim$ | $\\exp$ | $\\to$ | $\\infty$ | $\\equiv$ | $\\bmod$\n",
    "|  |  |  |  |  \n",
    "$\\times$ | $\\binom{n}{k}$ | $^3/_7$ | $\\sqrt{k}$ | $\\sqrt[n]{k}$ | $\\sum$ \n",
    "|  |  |  |  |  \n",
    "$\\sum_{i=1}^{10} t_i$ | $\\int_0^\\infty \\mathrm{e}^{-x}\\ \\mathrm{d}x $ | $\\prod$ | $\\int$ | $\\iint$ | $\\iiint$ \n",
    "\n"
   ]
  },
  {
   "cell_type": "markdown",
   "metadata": {},
   "source": [
    "## Other\n",
    "\n",
    "|  |  |  |  |  \n",
    "--- | --- | --- | --- | --- | ---\n",
    "$\\sum_{\\substack{0<i<m \\ 0<j<n}} P_{i,j}$ | $\\int\\limits_a^b$ | $\\hat{a}$ | $\\bar{a}$ | $\\dot{a}$ | $\\overrightarrow{AB}$\n",
    "|  |  |  |  |  \n",
    "$a'''$ | $a'$ | $\\vec{a}$ | $\\color{red}{x}$ | $\\pm{a}$ | $\\int y \\mathrm{d}x$\n",
    "|  |  |  |  |  \n",
    "$\\dots$ | $\\lfloor f \\rfloor$ | $\\lceil f \\rceil$ | $\\ldots$ | $\\mp{a}$ | $\\overleftarrow{AB}$"
   ]
  }
 ],
 "metadata": {
  "kernelspec": {
   "display_name": "Python 3",
   "language": "python",
   "name": "python3"
  },
  "language_info": {
   "codemirror_mode": {
    "name": "ipython",
    "version": 3
   },
   "file_extension": ".py",
   "mimetype": "text/x-python",
   "name": "python",
   "nbconvert_exporter": "python",
   "pygments_lexer": "ipython3",
   "version": "3.6.0"
  }
 },
 "nbformat": 4,
 "nbformat_minor": 2
}
