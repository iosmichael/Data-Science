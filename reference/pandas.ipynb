{
 "cells": [
  {
   "cell_type": "markdown",
   "metadata": {},
   "source": [
    "# Content of This Note\n",
    "\n",
    "* **Import Database from CSV file**\n",
    "* **Preprocessing Database using basic pandas functionality**\n",
    "* **Time-Series Analysis**\n",
    "* **Generate Test Datasets**\n",
    "* **Data Visualization**\n",
    "\n",
    "### Pandas Library Reference\n",
    "\n",
    "import pandas as pd"
   ]
  },
  {
   "cell_type": "code",
   "execution_count": 2,
   "metadata": {},
   "outputs": [],
   "source": [
    "%matplotlib notebook\n",
    "import pandas as pd"
   ]
  },
  {
   "cell_type": "code",
   "execution_count": 56,
   "metadata": {},
   "outputs": [
    {
     "data": {
      "text/html": [
       "<div>\n",
       "<style scoped>\n",
       "    .dataframe tbody tr th:only-of-type {\n",
       "        vertical-align: middle;\n",
       "    }\n",
       "\n",
       "    .dataframe tbody tr th {\n",
       "        vertical-align: top;\n",
       "    }\n",
       "\n",
       "    .dataframe thead th {\n",
       "        text-align: right;\n",
       "    }\n",
       "</style>\n",
       "<table border=\"1\" class=\"dataframe\">\n",
       "  <thead>\n",
       "    <tr style=\"text-align: right;\">\n",
       "      <th></th>\n",
       "      <th>a</th>\n",
       "      <th>b</th>\n",
       "      <th>c</th>\n",
       "    </tr>\n",
       "  </thead>\n",
       "  <tbody>\n",
       "    <tr>\n",
       "      <th>1</th>\n",
       "      <td>1</td>\n",
       "      <td>2</td>\n",
       "      <td>5</td>\n",
       "    </tr>\n",
       "    <tr>\n",
       "      <th>2</th>\n",
       "      <td>2</td>\n",
       "      <td>3</td>\n",
       "      <td>6</td>\n",
       "    </tr>\n",
       "    <tr>\n",
       "      <th>3</th>\n",
       "      <td>3</td>\n",
       "      <td>4</td>\n",
       "      <td>7</td>\n",
       "    </tr>\n",
       "  </tbody>\n",
       "</table>\n",
       "</div>"
      ],
      "text/plain": [
       "   a  b  c\n",
       "1  1  2  5\n",
       "2  2  3  6\n",
       "3  3  4  7"
      ]
     },
     "execution_count": 56,
     "metadata": {},
     "output_type": "execute_result"
    }
   ],
   "source": [
    "df = pd.DataFrame(\n",
    "    {\"a\":[1,2,3], \"b\":[2,3,4], \"c\":[5,6,7]}, index=[1,2,3]\n",
    ")\n",
    "df"
   ]
  },
  {
   "cell_type": "code",
   "execution_count": 7,
   "metadata": {},
   "outputs": [],
   "source": [
    "#read_csv(\"\", dataparser = lambda x: ...)\n",
    "csv_data = pd.read_csv(\"data/pandas/bot0.csv\")"
   ]
  },
  {
   "cell_type": "markdown",
   "metadata": {},
   "source": [
    "Dataframe basic functions: \n",
    "```\n",
    "head(), tail(), shape(), df['var'].sum(), df['var'].max(), df['var'].min()\n",
    "```\n",
    "\n",
    "Write Dataframe into a CSV file:\n",
    "```\n",
    "to_csv(\"bot.csv\", [sep='\\t'])\n",
    "```"
   ]
  },
  {
   "cell_type": "code",
   "execution_count": 20,
   "metadata": {},
   "outputs": [
    {
     "data": {
      "text/html": [
       "<div>\n",
       "<style scoped>\n",
       "    .dataframe tbody tr th:only-of-type {\n",
       "        vertical-align: middle;\n",
       "    }\n",
       "\n",
       "    .dataframe tbody tr th {\n",
       "        vertical-align: top;\n",
       "    }\n",
       "\n",
       "    .dataframe thead th {\n",
       "        text-align: right;\n",
       "    }\n",
       "</style>\n",
       "<table border=\"1\" class=\"dataframe\">\n",
       "  <thead>\n",
       "    <tr style=\"text-align: right;\">\n",
       "      <th></th>\n",
       "      <th>domain</th>\n",
       "      <th>organic_key_words</th>\n",
       "      <th>est_m_seo_clicks</th>\n",
       "      <th>diff_current_from_max</th>\n",
       "      <th>lost_rank</th>\n",
       "      <th>fell_out_words</th>\n",
       "      <th>max_month_away</th>\n",
       "      <th>page_one_keywords</th>\n",
       "    </tr>\n",
       "  </thead>\n",
       "  <tbody>\n",
       "    <tr>\n",
       "      <th>0</th>\n",
       "      <td>1010data.com</td>\n",
       "      <td>522</td>\n",
       "      <td>9.47k</td>\n",
       "      <td>-33.309859</td>\n",
       "      <td>NaN</td>\n",
       "      <td>15</td>\n",
       "      <td>3</td>\n",
       "      <td>59</td>\n",
       "    </tr>\n",
       "    <tr>\n",
       "      <th>1</th>\n",
       "      <td>1800flowers.com</td>\n",
       "      <td>24,178</td>\n",
       "      <td>2.99M</td>\n",
       "      <td>-27.602906</td>\n",
       "      <td>8,496</td>\n",
       "      <td>1,298</td>\n",
       "      <td>5</td>\n",
       "      <td>7,544</td>\n",
       "    </tr>\n",
       "    <tr>\n",
       "      <th>2</th>\n",
       "      <td>3sisecurity.com</td>\n",
       "      <td>83</td>\n",
       "      <td>2.54k</td>\n",
       "      <td>-45.493562</td>\n",
       "      <td>32</td>\n",
       "      <td>11</td>\n",
       "      <td>5</td>\n",
       "      <td>14</td>\n",
       "    </tr>\n",
       "    <tr>\n",
       "      <th>3</th>\n",
       "      <td>5wpr.com</td>\n",
       "      <td>921</td>\n",
       "      <td>20.8k</td>\n",
       "      <td>-53.258427</td>\n",
       "      <td>242</td>\n",
       "      <td>74</td>\n",
       "      <td>10</td>\n",
       "      <td>370</td>\n",
       "    </tr>\n",
       "    <tr>\n",
       "      <th>4</th>\n",
       "      <td>87am.com</td>\n",
       "      <td>132</td>\n",
       "      <td>20</td>\n",
       "      <td>-99.410029</td>\n",
       "      <td>39</td>\n",
       "      <td>1</td>\n",
       "      <td>6</td>\n",
       "      <td>2</td>\n",
       "    </tr>\n",
       "  </tbody>\n",
       "</table>\n",
       "</div>"
      ],
      "text/plain": [
       "            domain organic_key_words est_m_seo_clicks  diff_current_from_max  \\\n",
       "0     1010data.com               522            9.47k             -33.309859   \n",
       "1  1800flowers.com            24,178            2.99M             -27.602906   \n",
       "2  3sisecurity.com                83            2.54k             -45.493562   \n",
       "3         5wpr.com               921            20.8k             -53.258427   \n",
       "4         87am.com               132               20             -99.410029   \n",
       "\n",
       "  lost_rank fell_out_words  max_month_away page_one_keywords  \n",
       "0       NaN             15               3                59  \n",
       "1     8,496          1,298               5             7,544  \n",
       "2        32             11               5                14  \n",
       "3       242             74              10               370  \n",
       "4        39              1               6                 2  "
      ]
     },
     "execution_count": 20,
     "metadata": {},
     "output_type": "execute_result"
    }
   ],
   "source": [
    "csv_data.head()"
   ]
  },
  {
   "cell_type": "markdown",
   "metadata": {},
   "source": [
    "## Building extra summary columns in DataFrame object\n",
    "\n",
    "- Combine Rows and Columns, change row and column names\n",
    "- Append and Merge Different Dataframes\n",
    "\n",
    "Hint: Empty Data can be filled with ```np.nan```"
   ]
  },
  {
   "cell_type": "code",
   "execution_count": 52,
   "metadata": {},
   "outputs": [
    {
     "data": {
      "text/html": [
       "<div>\n",
       "<style scoped>\n",
       "    .dataframe tbody tr th:only-of-type {\n",
       "        vertical-align: middle;\n",
       "    }\n",
       "\n",
       "    .dataframe tbody tr th {\n",
       "        vertical-align: top;\n",
       "    }\n",
       "\n",
       "    .dataframe thead th {\n",
       "        text-align: right;\n",
       "    }\n",
       "</style>\n",
       "<table border=\"1\" class=\"dataframe\">\n",
       "  <thead>\n",
       "    <tr style=\"text-align: right;\">\n",
       "      <th></th>\n",
       "      <th>domain</th>\n",
       "      <th>organic_key_words</th>\n",
       "      <th>est_m_seo_clicks</th>\n",
       "      <th>diff_current_from_max</th>\n",
       "      <th>lost_rank</th>\n",
       "      <th>fell_out_words</th>\n",
       "      <th>max_month_away</th>\n",
       "      <th>page_one_keywords</th>\n",
       "    </tr>\n",
       "  </thead>\n",
       "  <tbody>\n",
       "    <tr>\n",
       "      <th>0</th>\n",
       "      <td>1010data.com</td>\n",
       "      <td>522</td>\n",
       "      <td>9.47k</td>\n",
       "      <td>-33.309859</td>\n",
       "      <td>NaN</td>\n",
       "      <td>15</td>\n",
       "      <td>3</td>\n",
       "      <td>59</td>\n",
       "    </tr>\n",
       "    <tr>\n",
       "      <th>1</th>\n",
       "      <td>1800flowers.com</td>\n",
       "      <td>24,178</td>\n",
       "      <td>2.99M</td>\n",
       "      <td>-27.602906</td>\n",
       "      <td>8,496</td>\n",
       "      <td>1,298</td>\n",
       "      <td>5</td>\n",
       "      <td>7,544</td>\n",
       "    </tr>\n",
       "    <tr>\n",
       "      <th>2</th>\n",
       "      <td>3sisecurity.com</td>\n",
       "      <td>83</td>\n",
       "      <td>2.54k</td>\n",
       "      <td>-45.493562</td>\n",
       "      <td>32</td>\n",
       "      <td>11</td>\n",
       "      <td>5</td>\n",
       "      <td>14</td>\n",
       "    </tr>\n",
       "    <tr>\n",
       "      <th>3</th>\n",
       "      <td>5wpr.com</td>\n",
       "      <td>921</td>\n",
       "      <td>20.8k</td>\n",
       "      <td>-53.258427</td>\n",
       "      <td>242</td>\n",
       "      <td>74</td>\n",
       "      <td>10</td>\n",
       "      <td>370</td>\n",
       "    </tr>\n",
       "    <tr>\n",
       "      <th>4</th>\n",
       "      <td>87am.com</td>\n",
       "      <td>132</td>\n",
       "      <td>20</td>\n",
       "      <td>-99.410029</td>\n",
       "      <td>39</td>\n",
       "      <td>1</td>\n",
       "      <td>6</td>\n",
       "      <td>2</td>\n",
       "    </tr>\n",
       "    <tr>\n",
       "      <th>5</th>\n",
       "      <td>data.com</td>\n",
       "      <td>12</td>\n",
       "      <td>23</td>\n",
       "      <td>-10.000000</td>\n",
       "      <td>23</td>\n",
       "      <td>1</td>\n",
       "      <td>6</td>\n",
       "      <td>2</td>\n",
       "    </tr>\n",
       "  </tbody>\n",
       "</table>\n",
       "</div>"
      ],
      "text/plain": [
       "            domain organic_key_words est_m_seo_clicks  diff_current_from_max  \\\n",
       "0     1010data.com               522            9.47k             -33.309859   \n",
       "1  1800flowers.com            24,178            2.99M             -27.602906   \n",
       "2  3sisecurity.com                83            2.54k             -45.493562   \n",
       "3         5wpr.com               921            20.8k             -53.258427   \n",
       "4         87am.com               132               20             -99.410029   \n",
       "5         data.com                12               23             -10.000000   \n",
       "\n",
       "  lost_rank fell_out_words  max_month_away page_one_keywords  \n",
       "0       NaN             15               3                59  \n",
       "1     8,496          1,298               5             7,544  \n",
       "2        32             11               5                14  \n",
       "3       242             74              10               370  \n",
       "4        39              1               6                 2  \n",
       "5        23              1               6                 2  "
      ]
     },
     "execution_count": 52,
     "metadata": {},
     "output_type": "execute_result"
    }
   ],
   "source": [
    "#ignore_index means ignores the appended dataset index, normally used for append in sequence\n",
    "csv_data.head().append(\n",
    "    pd.DataFrame([\n",
    "        [\"data.com\", 12, 23, -10, 23, 1, 6, 2]\n",
    "        ],columns = list(csv_data.columns)), \n",
    "    ignore_index=True)"
   ]
  },
  {
   "cell_type": "markdown",
   "metadata": {},
   "source": [
    "## TimeSeries with Pandas\n",
    "\n",
    "#### Create Timestamps\n",
    "``` \n",
    "pd.timestamp('2017-5-12')\n",
    "pd.timestamp('2017','5','12')\n",
    "```"
   ]
  },
  {
   "cell_type": "code",
   "execution_count": 60,
   "metadata": {},
   "outputs": [
    {
     "data": {
      "text/plain": [
       "Timestamp('2017-05-12 00:00:00')"
      ]
     },
     "execution_count": 60,
     "metadata": {},
     "output_type": "execute_result"
    }
   ],
   "source": [
    "pd.Timestamp('2017-5-12')"
   ]
  },
  {
   "cell_type": "code",
   "execution_count": null,
   "metadata": {
    "collapsed": true
   },
   "outputs": [],
   "source": []
  }
 ],
 "metadata": {
  "kernelspec": {
   "display_name": "Python 3",
   "language": "python",
   "name": "python3"
  },
  "language_info": {
   "codemirror_mode": {
    "name": "ipython",
    "version": 3
   },
   "file_extension": ".py",
   "mimetype": "text/x-python",
   "name": "python",
   "nbconvert_exporter": "python",
   "pygments_lexer": "ipython3",
   "version": "3.6.0"
  }
 },
 "nbformat": 4,
 "nbformat_minor": 2
}
