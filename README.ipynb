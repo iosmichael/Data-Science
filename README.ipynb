{
 "cells": [
  {
   "cell_type": "markdown",
   "metadata": {},
   "source": [
    "# Introduction to My Senior Capstone project\n",
    "\n",
    "***This github repository is intended to combine theory and practice used commonly in Software Development field. The main programming language written in this project is Python 3.6*** \n",
    "\n",
    "please use *jupter notebook* to run all demos in this project\n",
    "\n",
    "download anaconda environment\n",
    "\n",
    "```\n",
    "conda info -envs\n",
    "jupter notebook --ip=127.0.0.1 --port=8000\n",
    "\n",
    "```\n",
    "\n",
    "Used libraries:\n",
    "- Pandas\n",
    "- Pillow\n",
    "- Matplotlib\n",
    "- Sklearn\n",
    "- Numpy\n",
    "- NLTK (Natural Language Processing)\n",
    "- Multiprocessing\n",
    "\n",
    "***Module listed in this project:***\n",
    "* Multiprocessing module\n",
    "* Pandas module\n",
    "* Socket module\n",
    "* Sklearn module\n",
    "* Keras module (Deep Learning)\n",
    "\n",
    "***Math modeling techniques in this project:***\n",
    "* Numerical methods\n",
    "* Timeseries analysis\n",
    "* Smoothing methods\n"
   ]
  }
 ],
 "metadata": {
  "kernelspec": {
   "display_name": "Python 3",
   "language": "python",
   "name": "python3"
  },
  "language_info": {
   "codemirror_mode": {
    "name": "ipython",
    "version": 3
   },
   "file_extension": ".py",
   "mimetype": "text/x-python",
   "name": "python",
   "nbconvert_exporter": "python",
   "pygments_lexer": "ipython3",
   "version": "3.6.0"
  }
 },
 "nbformat": 4,
 "nbformat_minor": 2
}
