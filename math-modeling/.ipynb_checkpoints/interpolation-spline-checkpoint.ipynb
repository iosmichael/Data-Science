{
 "cells": [
  {
   "cell_type": "markdown",
   "metadata": {},
   "source": [
    "# Interpolation\n",
    "\n",
    "In this note, we will introduce simple numerical method: interpolation. Interpolation is widely used for curve simplification. Applications of such technique include railroad design, computer-aided design, drafting tools for tracing curves etc.\n",
    "\n",
    "*The difference between interpolation and regression is that regression doesn't need to go through every single data points, where interpolation goes through all the data points.*\n",
    "\n",
    "## Lagrange Interpolation\n",
    "\n",
    "Example:\n",
    "* Data (n=3): $$(x_1, y_1)\\, (x_2, y_2)\\, (x_3, y_3)$$\n",
    "* Equation (highest degree equals to n-1 = 2): $$y = a_0 + a_1x + a_2x^2$$\n",
    "* Matrix Form:\n"
   ]
  },
  {
   "cell_type": "code",
   "execution_count": null,
   "metadata": {
    "collapsed": true
   },
   "outputs": [],
   "source": [
    "def populate_xmtx(x):\n",
    "    "
   ]
  },
  {
   "cell_type": "markdown",
   "metadata": {},
   "source": [
    "## Runge Effect\n",
    "\n",
    "Large error near the first and the last point during the interpolation, it gets larger with higher degree of the polynomial function.\n",
    "\n",
    "## Chebyshev Nodes\n",
    "\n",
    "To interpolate a natural curve on [-1,1], Chebyshev interpolation uses unequally spread nodes to mitigate the **Runge Effect**"
   ]
  }
 ],
 "metadata": {
  "kernelspec": {
   "display_name": "Python 3",
   "language": "python",
   "name": "python3"
  },
  "language_info": {
   "codemirror_mode": {
    "name": "ipython",
    "version": 3
   },
   "file_extension": ".py",
   "mimetype": "text/x-python",
   "name": "python",
   "nbconvert_exporter": "python",
   "pygments_lexer": "ipython3",
   "version": "3.6.0"
  }
 },
 "nbformat": 4,
 "nbformat_minor": 2
}
