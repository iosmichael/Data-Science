{
 "cells": [
  {
   "cell_type": "markdown",
   "metadata": {},
   "source": [
    "# Introduction to Data Science project\n",
    "\n",
    "***This github repository is intended to combine theory and practice used commonly in Software Development field. The main programming language written in this project is Python 3.6*** \n",
    "\n",
    "please use *jupter notebook* to run all demos in this project\n",
    "\n",
    "download anaconda environment\n",
    "\n",
    "```\n",
    "conda info -envs\n",
    "jupter notebook --ip=127.0.0.1 --port=8000\n",
    "\n",
    "```\n",
    "\n",
    "Commonly Used libraries:\n",
    "- Numpy (Linear Algebra)\n",
    "- Pandas (Data Processing)\n",
    "- Pillow (Image Processing)\n",
    "- Matplotlib\n",
    "- Sklearn (Machine Learning)\n",
    "- NLTK (Natural Language Processing)\n",
    "- Keras (Deep Learning)\n",
    "- Multiprocessing\n",
    "\n",
    "***Math modeling techniques in this project:***\n",
    "* Numerical methods\n",
    "* Timeseries analysis\n",
    "* Smoothing methods\n"
   ]
  }
 ],
 "metadata": {
  "kernelspec": {
   "display_name": "Python 3",
   "language": "python",
   "name": "python3"
  },
  "language_info": {
   "codemirror_mode": {
    "name": "ipython",
    "version": 3
   },
   "file_extension": ".py",
   "mimetype": "text/x-python",
   "name": "python",
   "nbconvert_exporter": "python",
   "pygments_lexer": "ipython3",
   "version": "3.6.0"
  }
 },
 "nbformat": 4,
 "nbformat_minor": 2
}
